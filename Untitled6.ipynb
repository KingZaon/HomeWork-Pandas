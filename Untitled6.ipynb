{
 "cells": [
  {
   "cell_type": "code",
   "execution_count": null,
   "metadata": {},
   "outputs": [],
   "source": [
    "# Dependencies and Setup\n",
    "import pandas as pd\n",
    "import numpy as np\n",
    "\n",
    "# File to Load (Remember to Change These)\n",
    "file_to_load = \"purchase_data.csv\"\n",
    "\n"
   ]
  },
  {
   "cell_type": "code",
   "execution_count": null,
   "metadata": {},
   "outputs": [],
   "source": [
    "purchase_data_pd = pd.read_csv(file_to_load)\n",
    "purchase_data_pd"
   ]
  },
  {
   "cell_type": "code",
   "execution_count": null,
   "metadata": {},
   "outputs": [],
   "source": [
    "purchase_data_pd.columns"
   ]
  },
  {
   "cell_type": "code",
   "execution_count": null,
   "metadata": {},
   "outputs": [],
   "source": [
    "total_sn = purchase_data_pd[\"SN\"].nunique()\n"
   ]
  },
  {
   "cell_type": "code",
   "execution_count": null,
   "metadata": {},
   "outputs": [],
   "source": [
    "players_df = pd.DataFrame({\"Total Players\": [total_sn]})\n",
    "players_df"
   ]
  },
  {
   "cell_type": "code",
   "execution_count": null,
   "metadata": {},
   "outputs": [],
   "source": [
    "total_id = purchase_data_pd[\"Item ID\"].nunique()"
   ]
  },
  {
   "cell_type": "code",
   "execution_count": null,
   "metadata": {
    "scrolled": true
   },
   "outputs": [],
   "source": [
    "number_unique_df = pd.DataFrame({\"Number of Unique Item\": [total_id]})\n",
    "number_unique_df"
   ]
  },
  {
   "cell_type": "code",
   "execution_count": null,
   "metadata": {},
   "outputs": [],
   "source": [
    "avg_price = purchase_data_pd[\"Price\"].mean()"
   ]
  },
  {
   "cell_type": "code",
   "execution_count": null,
   "metadata": {},
   "outputs": [],
   "source": [
    "avg_price = pd.DataFrame({\"Average Price\": [avg_price]})\n",
    "avg_price"
   ]
  },
  {
   "cell_type": "code",
   "execution_count": null,
   "metadata": {},
   "outputs": [],
   "source": [
    "total_purchases = purchase_data_pd[\"Purchase ID\"].count()"
   ]
  },
  {
   "cell_type": "code",
   "execution_count": null,
   "metadata": {},
   "outputs": [],
   "source": [
    "total_purchases = pd.DataFrame({\"Number of Purchases\": [total_purchases]})\n",
    "total_purchases"
   ]
  },
  {
   "cell_type": "code",
   "execution_count": null,
   "metadata": {},
   "outputs": [],
   "source": [
    "total_revenue = purchase_data_pd[\"Price\"].sum()"
   ]
  },
  {
   "cell_type": "code",
   "execution_count": null,
   "metadata": {},
   "outputs": [],
   "source": [
    "total_revenue = pd.DataFrame({\"Total Revenue\": [total_revenue]})\n",
    "total_revenue"
   ]
  },
  {
   "cell_type": "code",
   "execution_count": null,
   "metadata": {},
   "outputs": [],
   "source": [
    "summary_data = pd.DataFrame({\"Number of Unique Items\": [total_id],\n",
    "                                \"Average Price\": [avg_price],\n",
    "                                \"Number of Purchases\": [total_purchases],\n",
    "                                \"Total Revenue\": [total_revenue]})\n",
    "summary_data"
   ]
  },
  {
   "cell_type": "code",
   "execution_count": null,
   "metadata": {},
   "outputs": [],
   "source": [
    "gender_df = purchase_data_pd.groupby(\"Gender\")[\"SN\"].nunique()"
   ]
  },
  {
   "cell_type": "code",
   "execution_count": null,
   "metadata": {},
   "outputs": [],
   "source": [
    "gender_percent_df = gender_df/573\n",
    "gender_percent_df.round(2)                                               "
   ]
  },
  {
   "cell_type": "code",
   "execution_count": null,
   "metadata": {},
   "outputs": [],
   "source": [
    "gender_demographic_df = pd.DataFrame({\"Gender Count\": gender_df, \"Percentage of players\": gender_percent_df})\n",
    "gender_demographic_df"
   ]
  },
  {
   "cell_type": "code",
   "execution_count": null,
   "metadata": {},
   "outputs": [],
   "source": [
    "gender_purchases_df = purchase_data_pd.groupby(\"Gender\")[\"Item Name\"].count()\n",
    "gender_purchases_df"
   ]
  },
  {
   "cell_type": "code",
   "execution_count": null,
   "metadata": {},
   "outputs": [],
   "source": [
    "gender_average_df = purchase_data_pd.groupby(\"Gender\")[\"Price\"].mean()\n",
    "gender_average_df.round(2)"
   ]
  },
  {
   "cell_type": "code",
   "execution_count": null,
   "metadata": {},
   "outputs": [],
   "source": [
    "gender_total_df = purchase_data_pd.groupby(\"Gender\")[\"Price\"].sum()\n",
    "gender_total_df"
   ]
  },
  {
   "cell_type": "code",
   "execution_count": null,
   "metadata": {},
   "outputs": [],
   "source": [
    "total_avg_gender = gender_total_df/gender_df\n",
    "total_avg_gender.round(2)"
   ]
  },
  {
   "cell_type": "code",
   "execution_count": null,
   "metadata": {},
   "outputs": [],
   "source": [
    "gender_anaylsis_df = pd.DataFrame({\"Purchase Count\": gender_purchases_df,\n",
    "                                   \"Average Purchase Price\": gender_average_df,\n",
    "                                   \"Total Purchase Value\": gender_total_df,\n",
    "                                   \"Avg Total Purchase Per Person\": total_avg_gender})\n",
    "gender_anaylsis_df"
   ]
  },
  {
   "cell_type": "code",
   "execution_count": null,
   "metadata": {},
   "outputs": [],
   "source": [
    "#Create bins to contain data in said bins\n",
    "\n",
    "bins = [0, 10, 15, 20, 25, 30, 35, 40, 45]\n",
    "age_group = [\"<10\", \"10-14\", \"15-19\", \"20-24\", \"25-29\", \"30-34\", \"35-39\", \"40+\"]"
   ]
  },
  {
   "cell_type": "code",
   "execution_count": null,
   "metadata": {},
   "outputs": [],
   "source": [
    "pd.cut(purchase_data_pd[\"Age\"], bins, labels=age_group)"
   ]
  },
  {
   "cell_type": "code",
   "execution_count": null,
   "metadata": {},
   "outputs": [],
   "source": [
    "purchase_data_pd[\"Age Range\"] = pd.cut(purchase_data_pd[\"Age\"], bins, labels=age_group)\n",
    "purchase_data_pd.head()"
   ]
  },
  {
   "cell_type": "code",
   "execution_count": null,
   "metadata": {},
   "outputs": [],
   "source": [
    "age_group_percentage = round(purchase_data_pd[\"Age Range\"].value_counts()/780,2)\n",
    "age_group_percentage"
   ]
  },
  {
   "cell_type": "code",
   "execution_count": null,
   "metadata": {},
   "outputs": [],
   "source": [
    "age_group_count = purchase_data_pd.groupby(\"Age Range\")[\"Item Name\"]\n",
    "age_group_count.count()"
   ]
  },
  {
   "cell_type": "code",
   "execution_count": null,
   "metadata": {},
   "outputs": [],
   "source": [
    "purchase_by_age = purchase_data_pd.groupby(\"Age Range\")[\"Price\"].mean()\n",
    "purchase_by_age.round(2)"
   ]
  },
  {
   "cell_type": "code",
   "execution_count": null,
   "metadata": {},
   "outputs": [],
   "source": [
    "total_by_age = purchase_data_pd.groupby(\"Age Range\")[\"Price\"].sum()\n",
    "total_by_age"
   ]
  },
  {
   "cell_type": "code",
   "execution_count": null,
   "metadata": {},
   "outputs": [],
   "source": [
    "summary_by_age = total_by_age/573\n",
    "summary_by_age.round(2)"
   ]
  },
  {
   "cell_type": "code",
   "execution_count": null,
   "metadata": {},
   "outputs": [],
   "source": [
    "age_range = pd.DataFrame({\"Purchase Count\": age_group_count,\n",
    "                          \"Average Purchase Price\": purchase_by_age,\n",
    "                          \"Total Purchase Value\": total_by_age,\n",
    "                          \"Avg Total Purchase Per Person\": summary_by_age})\n",
    "age_range"
   ]
  },
  {
   "cell_type": "code",
   "execution_count": null,
   "metadata": {},
   "outputs": [],
   "source": [
    "player_purchase_count = purchase_data_pd.groupby(\"SN\").count()[\"Price\"].rename(\"Purchase Count\")\n",
    "player_average_price = purchase_data_pd.groupby(\"SN\").mean()[\"Price\"].rename(\"Average Purchase Price\")\n",
    "player_total = purchase_data_pd.groupby(\"SN\").sum()[\"Price\"].rename(\"Total Purchase Price\")"
   ]
  },
  {
   "cell_type": "code",
   "execution_count": null,
   "metadata": {},
   "outputs": [],
   "source": [
    "all_player_purchase = pd.DataFrame({\"Purchase Count\": player_purchase_count,\n",
    "                                    \"Average Purchase Price\": player_average_price,\n",
    "                                    \"Total Purchase Price\": player_total})\n",
    "all_player_purchase.head()"
   ]
  },
  {
   "cell_type": "code",
   "execution_count": null,
   "metadata": {},
   "outputs": [],
   "source": [
    "top_five = all_player_purchase.sort_values(\"Total Purchase Price\", ascending=False)\n",
    "top_five.head()"
   ]
  },
  {
   "cell_type": "code",
   "execution_count": null,
   "metadata": {},
   "outputs": [],
   "source": [
    "item_purchase_count = purchase_data_pd.groupby([\"Item ID\", \"Item Name\"]).count()[\"Price\"].rename(\"Purchase Count\")\n",
    "item_average_price = purchase_data_pd.groupby([\"Item ID\", \"Item Name\"]).mean()[\"Price\"].rename(\"Average Purchase Price\")\n",
    "item_total_price = purchase_data_pd.groupby([\"Item ID\", \"Item Name\"]).sum()[\"Price\"].rename(\"Total Purchase Price\")"
   ]
  },
  {
   "cell_type": "code",
   "execution_count": null,
   "metadata": {
    "scrolled": true
   },
   "outputs": [],
   "source": [
    "item_summary = pd.DataFrame({\"Purchase Count\": item_purchase_count,\n",
    "                             \"Average Purchase Price\": item_average_price,\n",
    "                             \"Total Purchase Price\": item_total_price})\n",
    "item_summary.head()"
   ]
  },
  {
   "cell_type": "code",
   "execution_count": null,
   "metadata": {},
   "outputs": [],
   "source": [
    "popular_items = item_summary.sort_values(\"Purchase Count\", ascending = False)\n",
    "popular_items.head()"
   ]
  },
  {
   "cell_type": "code",
   "execution_count": null,
   "metadata": {},
   "outputs": [],
   "source": [
    "profitable_items = item_summary.sort_values(\"Total Purchase Price\", ascending = False)\n",
    "profitable_items.head()"
   ]
  },
  {
   "cell_type": "code",
   "execution_count": null,
   "metadata": {},
   "outputs": [],
   "source": [
    "Males are the most users playing this game, making up 84 percent of the total user base"
   ]
  },
  {
   "cell_type": "code",
   "execution_count": null,
   "metadata": {},
   "outputs": [],
   "source": [
    "Males are also the most frequent buyers and highest paid buyers in game"
   ]
  },
  {
   "cell_type": "code",
   "execution_count": null,
   "metadata": {},
   "outputs": [],
   "source": [
    "Females have the highest average purchase price and Total purchase per person"
   ]
  }
 ],
 "metadata": {
  "kernelspec": {
   "display_name": "Python 3",
   "language": "python",
   "name": "python3"
  },
  "language_info": {
   "codemirror_mode": {
    "name": "ipython",
    "version": 3
   },
   "file_extension": ".py",
   "mimetype": "text/x-python",
   "name": "python",
   "nbconvert_exporter": "python",
   "pygments_lexer": "ipython3",
   "version": "3.7.3"
  }
 },
 "nbformat": 4,
 "nbformat_minor": 2
}
